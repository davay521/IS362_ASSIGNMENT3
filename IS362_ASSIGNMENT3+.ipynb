{
 "cells": [
  {
   "cell_type": "markdown",
   "metadata": {},
   "source": [
    "# Panda series assignment3\n"
   ]
  },
  {
   "cell_type": "code",
   "execution_count": 1,
   "metadata": {
    "collapsed": false
   },
   "outputs": [
    {
     "name": "stdout",
     "output_type": "stream",
     "text": [
      "{'Day 6': 340, 'Day 9': 495, 'Day 5': 292, 'Day 2': 120, 'Day 1': 55, 'Day 8': 453, 'Day 4': 233, 'Day 3': 172, 'Day 7': 406}\n"
     ]
    }
   ],
   "source": [
    "import pandas as pd\n",
    "\n",
    "Total_miles = {}\n",
    "Total_miles['Day 1'] = 55\n",
    "Total_miles['Day 2'] = 120\n",
    "Total_miles['Day 3'] = 172\n",
    "Total_miles['Day 4'] = 233\n",
    "Total_miles['Day 5'] = 292\n",
    "Total_miles['Day 6'] = 340\n",
    "Total_miles['Day 7'] = 406\n",
    "Total_miles['Day 8'] = 453\n",
    "Total_miles['Day 9'] = 495\n",
    "\n",
    "\n",
    "print (Total_miles)\n"
   ]
  },
  {
   "cell_type": "code",
   "execution_count": 2,
   "metadata": {
    "collapsed": false
   },
   "outputs": [
    {
     "data": {
      "text/plain": [
       "Day 1     55\n",
       "Day 2    120\n",
       "Day 3    172\n",
       "Day 4    233\n",
       "Day 5    292\n",
       "Day 6    340\n",
       "Day 7    406\n",
       "Day 8    453\n",
       "Day 9    495\n",
       "dtype: int64"
      ]
     },
     "execution_count": 2,
     "metadata": {},
     "output_type": "execute_result"
    }
   ],
   "source": [
    "Total_miles = pd.Series(Total_miles)\n",
    "\n",
    "Total_miles"
   ]
  },
  {
   "cell_type": "code",
   "execution_count": 3,
   "metadata": {
    "collapsed": false
   },
   "outputs": [
    {
     "name": "stdout",
     "output_type": "stream",
     "text": [
      "Day 1: 55 miles\n",
      "Day 2: 65 miles\n",
      "Day 3: 52 miles\n",
      "Day 4: 61 miles\n",
      "Day 5: 59 miles\n",
      "Day 6: 48 miles\n",
      "Day 7: 66 miles\n",
      "Day 8: 47 miles\n",
      "Day 9: 42 miles\n"
     ]
    }
   ],
   "source": [
    "miles_traveled = {} \n",
    "yesterdays_miles = 0\n",
    "\n",
    "for day, todays_miles in Total_miles.items():\n",
    "        \n",
    "    recorded_miles= todays_miles - yesterdays_miles\n",
    "\n",
    "    miles_traveled[day] = recorded_miles\n",
    "    \n",
    "    print (day + ': ' + str(recorded_miles) + ' miles')\n",
    "    \n",
    "    yesterdays_miles = todays_miles"
   ]
  },
  {
   "cell_type": "code",
   "execution_count": null,
   "metadata": {
    "collapsed": true
   },
   "outputs": [],
   "source": []
  }
 ],
 "metadata": {
  "anaconda-cloud": {},
  "kernelspec": {
   "display_name": "Python [default]",
   "language": "python",
   "name": "python3"
  },
  "language_info": {
   "codemirror_mode": {
    "name": "ipython",
    "version": 3
   },
   "file_extension": ".py",
   "mimetype": "text/x-python",
   "name": "python",
   "nbconvert_exporter": "python",
   "pygments_lexer": "ipython3",
   "version": "3.5.2"
  }
 },
 "nbformat": 4,
 "nbformat_minor": 1
}
